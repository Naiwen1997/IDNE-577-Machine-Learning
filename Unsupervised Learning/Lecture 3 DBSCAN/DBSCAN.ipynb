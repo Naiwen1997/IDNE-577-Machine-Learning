{
 "cells": [
  {
   "cell_type": "markdown",
   "metadata": {},
   "source": [
    "# DBSCAN\n",
    "\n",
    "[![Open In Colab](https://colab.research.google.com/assets/colab-badge.svg)](https://colab.research.google.com/github/Naiwen1997/IDNE-577-Machine-Learning/blob/master/Unsupervised%20Learning/Lecture%203%20DBSCAN/DBSCAN.ipynb)"
   ]
  },
  {
   "cell_type": "code",
   "execution_count": null,
   "metadata": {
    "vscode": {
     "languageId": "plaintext"
    }
   },
   "outputs": [],
   "source": []
  },
  {
   "cell_type": "code",
   "execution_count": null,
   "metadata": {
    "vscode": {
     "languageId": "plaintext"
    }
   },
   "outputs": [],
   "source": [
    "# Conclusion and Discussion\n",
    "\n",
    "The model evaluation shows that perceptron is capable of predicting the type of rice with a very high accuracy. A summary of the results obtained is:\n",
    "\n",
    "1. The perceptron is able to achieve a testing accuracy of 92%.\n",
    "2. The precision of the percepron is 95% and 9o% respectively for Cammeo and Osmancik rice."
   ]
  }
 ],
 "metadata": {
  "language_info": {
   "name": "python"
  }
 },
 "nbformat": 4,
 "nbformat_minor": 2
}
