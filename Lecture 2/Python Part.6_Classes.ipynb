{
 "cells": [
  {
   "cell_type": "markdown",
   "metadata": {},
   "source": [
    "## Classes"
   ]
  },
  {
   "cell_type": "code",
   "execution_count": 22,
   "metadata": {},
   "outputs": [
    {
     "name": "stdout",
     "output_type": "stream",
     "text": [
      "p(x)=-10*x^8+3*x^5+4*x^4+6*x^3+7*x^2-2*x-4\n",
      "-2332\n"
     ]
    }
   ],
   "source": [
    "# define a class for polynomials\n",
    "class polynomial(object):\n",
    "    def __init__(self,coef,name):\n",
    "        self.coef=coef\n",
    "        self.name=name\n",
    "    def degree(self):\n",
    "        degree=len(self.coef)-1\n",
    "        return degree\n",
    "    def __repr__(self):\n",
    "        degree=self.degree()\n",
    "        string=self.name+\"=\"\n",
    "        for i,a in enumerate(self.coef):\n",
    "            if a==0:\n",
    "                string+=f\"\"\n",
    "            elif i==0 and a!=0:\n",
    "                string+=f\"{a}*x^{degree-i}\"\n",
    "            elif degree>degree-i>1 and a>0:\n",
    "                string+=f\"+{abs(a)}*x^{degree-i}\"\n",
    "            elif degree>degree-i>1 and a<0:\n",
    "                string+=f\"-{abs(a)}*x^{degree-i}\"\n",
    "            elif degree-i==1 and a>0:\n",
    "                string+=f\"+{abs(a)}*x\"\n",
    "            elif degree-i==1 and a<0:\n",
    "                string+=f\"-{abs(a)}*x\"\n",
    "            elif degree-i==0 and a>0:\n",
    "                string+=f\"+{abs(a)}\"\n",
    "            else:\n",
    "                string+=f\"-{abs(a)}\"\n",
    "        return string\n",
    "    def __call__(self,x):\n",
    "        degree=self.degree()\n",
    "        value=0\n",
    "        for i,a in enumerate(self.coef):\n",
    "            value+=a*x**(degree-i)\n",
    "        return value\n",
    "p=polynomial([-10,0,0,3,4,6,7,-2,-4],\"p(x)\")\n",
    "print(p)\n",
    "print(p(2))"
   ]
  }
 ],
 "metadata": {
  "kernelspec": {
   "display_name": "base",
   "language": "python",
   "name": "python3"
  },
  "language_info": {
   "codemirror_mode": {
    "name": "ipython",
    "version": 3
   },
   "file_extension": ".py",
   "mimetype": "text/x-python",
   "name": "python",
   "nbconvert_exporter": "python",
   "pygments_lexer": "ipython3",
   "version": "3.11.3"
  }
 },
 "nbformat": 4,
 "nbformat_minor": 2
}
