{
 "cells": [
  {
   "cell_type": "markdown",
   "metadata": {},
   "source": [
    "# Python Part.2_Lists, Tuples, and Sets\n",
    "\n",
    "# 2.a Lists\n",
    "\n",
    "```\n",
    "num_list=[1,2,3,4,5]\n",
    "```"
   ]
  },
  {
   "cell_type": "code",
   "execution_count": 1,
   "metadata": {},
   "outputs": [],
   "source": [
    "num_list=[1,2,3]\n",
    "str_list=[\"a\",\"b\",\"c\"]"
   ]
  },
  {
   "cell_type": "code",
   "execution_count": 2,
   "metadata": {},
   "outputs": [
    {
     "name": "stdout",
     "output_type": "stream",
     "text": [
      "The sample_list is [1, 2, 4, 5, 6, 8] \n",
      "\n",
      "------------------------------------- \n",
      "\n",
      "The sum of the [1, 2, 4, 5, 6, 8] is 26. \n",
      "\n",
      "The max of the [1, 2, 4, 5, 6, 8] is 8. \n",
      "\n",
      "-------------------------------------\n"
     ]
    }
   ],
   "source": [
    "sample_list=[1,2,4,5,6,8]\n",
    "title=f\"The sample_list is {sample_list}\"\n",
    "print(title, \"\\n\")\n",
    "print(\"-\"*len(title), \"\\n\")\n",
    "print(f\"The sum of the {sample_list} is {sum(sample_list)}. \\n\")\n",
    "print(f\"The max of the {sample_list} is {max(sample_list)}. \\n\")\n",
    "print(\"-\"*len(title))"
   ]
  },
  {
   "cell_type": "code",
   "execution_count": 3,
   "metadata": {},
   "outputs": [
    {
     "name": "stdout",
     "output_type": "stream",
     "text": [
      "The mean of the [1, 2, 4, 5, 6, 8] is 4.333333333333333\n"
     ]
    }
   ],
   "source": [
    "print(f\"The mean of the {sample_list} is {sum(sample_list)/len(sample_list)}\")"
   ]
  },
  {
   "cell_type": "code",
   "execution_count": 4,
   "metadata": {},
   "outputs": [
    {
     "data": {
      "text/plain": [
       "['apple', 7, 9, 2, 10]"
      ]
     },
     "execution_count": 4,
     "metadata": {},
     "output_type": "execute_result"
    }
   ],
   "source": [
    "sample_list=[10,2,9,7]\n",
    "sample_list.append(\"apple\")\n",
    "sample_list.reverse()\n",
    "sample_list"
   ]
  },
  {
   "cell_type": "code",
   "execution_count": 5,
   "metadata": {},
   "outputs": [
    {
     "name": "stdout",
     "output_type": "stream",
     "text": [
      "None\n"
     ]
    }
   ],
   "source": [
    "# Wrong example\n",
    "x=[0,1]\n",
    "x=x.append(3)# here the function x.append() return none instead of a new list\n",
    "print(x)"
   ]
  },
  {
   "cell_type": "code",
   "execution_count": 6,
   "metadata": {},
   "outputs": [
    {
     "name": "stdout",
     "output_type": "stream",
     "text": [
      "[1, 2, 3, 4, 5]\n",
      "[1, 2, 3, 4]\n"
     ]
    }
   ],
   "source": [
    "#Assiging a new variable to a list variable does not make a copy, it makes an additional name!\n",
    "#For example\n",
    "x=[1,2,3,4]\n",
    "y=x\n",
    "y.append(5)\n",
    "print(x)#here x also got appended since y is another name of x.\n",
    "#For real copy, using function copy()\n",
    "x=[1,2,3,4]\n",
    "y=x.copy()\n",
    "y.append(5)\n",
    "print(x)"
   ]
  },
  {
   "cell_type": "code",
   "execution_count": 7,
   "metadata": {},
   "outputs": [
    {
     "data": {
      "text/plain": [
       "[1, 2, 3, 'l', '2', '3']"
      ]
     },
     "execution_count": 7,
     "metadata": {},
     "output_type": "execute_result"
    }
   ],
   "source": [
    "a=[1,2,3]\n",
    "b=['l','2','3']\n",
    "a.extend(b)\n",
    "a"
   ]
  },
  {
   "cell_type": "code",
   "execution_count": 8,
   "metadata": {},
   "outputs": [
    {
     "name": "stdout",
     "output_type": "stream",
     "text": [
      "P(apple)=0.5\n"
     ]
    }
   ],
   "source": [
    "sample_space=['apple','banana','orange','apple']\n",
    "number_of_apple=sample_space.count('apple')\n",
    "print(f\"P(apple)={number_of_apple/len(sample_space)}\")"
   ]
  },
  {
   "cell_type": "code",
   "execution_count": 9,
   "metadata": {},
   "outputs": [
    {
     "data": {
      "text/plain": [
       "['apple', 'eggplant', 'banana', 'orange', 'apple']"
      ]
     },
     "execution_count": 9,
     "metadata": {},
     "output_type": "execute_result"
    }
   ],
   "source": [
    "sample_space.insert(1,'eggplant')\n",
    "sample_space"
   ]
  },
  {
   "cell_type": "code",
   "execution_count": 10,
   "metadata": {},
   "outputs": [
    {
     "data": {
      "text/plain": [
       "[1, 2, 3, 4, 5, 7, 8]"
      ]
     },
     "execution_count": 10,
     "metadata": {},
     "output_type": "execute_result"
    }
   ],
   "source": [
    "data=[1,2,4,5,3,8,7]\n",
    "data.sort()\n",
    "data"
   ]
  },
  {
   "cell_type": "code",
   "execution_count": 3,
   "metadata": {},
   "outputs": [
    {
     "data": {
      "text/plain": [
       "98"
      ]
     },
     "execution_count": 3,
     "metadata": {},
     "output_type": "execute_result"
    }
   ],
   "source": [
    "ord('a')"
   ]
  },
  {
   "cell_type": "code",
   "execution_count": 29,
   "metadata": {},
   "outputs": [
    {
     "data": {
      "text/plain": [
       "['d', 'c', 'e', 'a', 'b', 'f', 'g']"
      ]
     },
     "execution_count": 29,
     "metadata": {},
     "output_type": "execute_result"
    }
   ],
   "source": [
    "list_letter=['c','c','d','d','d','a','e','e','g','f','b']\n",
    "new_list=list(set(list_letter))\n",
    "new_list.sort(key=lambda x:ord(x))\n",
    "new_list.sort(reverse=True, key=lambda x:list_letter.count(x))\n",
    "new_list"
   ]
  },
  {
   "cell_type": "code",
   "execution_count": 30,
   "metadata": {},
   "outputs": [
    {
     "name": "stdout",
     "output_type": "stream",
     "text": [
      "a[-1]=5\n"
     ]
    }
   ],
   "source": [
    "# 2.b Tuples\n",
    "a=(1,2,3,4,5)\n",
    "print(f\"a[-1]={a[-1]}\")"
   ]
  },
  {
   "cell_type": "code",
   "execution_count": 31,
   "metadata": {},
   "outputs": [
    {
     "data": {
      "text/plain": [
       "{'a', 'b', 'c', 'd', 'e', 'f'}"
      ]
     },
     "execution_count": 31,
     "metadata": {},
     "output_type": "execute_result"
    }
   ],
   "source": [
    "# 2.c Sets\n",
    "set_1={'a','b','c'}\n",
    "set_2=set(['d','e','f'])\n",
    "set_1.union(set_2)"
   ]
  },
  {
   "cell_type": "code",
   "execution_count": 32,
   "metadata": {},
   "outputs": [
    {
     "data": {
      "text/plain": [
       "{30, 40, 50, 60}"
      ]
     },
     "execution_count": 32,
     "metadata": {},
     "output_type": "execute_result"
    }
   ],
   "source": [
    "data=[30,30,40,50,60,60]\n",
    "set(data)"
   ]
  },
  {
   "cell_type": "code",
   "execution_count": 33,
   "metadata": {},
   "outputs": [
    {
     "name": "stdout",
     "output_type": "stream",
     "text": [
      "data = [100, 90, 100, 30, 30, 40, 30]\n",
      "unique data entries = [40, 90, 100, 30]\n"
     ]
    }
   ],
   "source": [
    "data = [100, 90, 100, 30, 30, 40, 30]\n",
    "print(f\"data = {data}\")\n",
    "print(f\"unique data entries = {list(set(data))}\")"
   ]
  },
  {
   "cell_type": "code",
   "execution_count": 34,
   "metadata": {},
   "outputs": [
    {
     "name": "stdout",
     "output_type": "stream",
     "text": [
      "set union:A or B={'b', 'g', 'f', 'c', 'e', 'd', 'a'} \n",
      "\n",
      "set intersection: A and B={'c', 'e', 'd'} \n",
      "\n",
      "set difference:A-B={'a', 'b'} \n",
      "\n",
      "set symmetric difference:A(+)B={'g', 'f', 'a', 'b'}\n"
     ]
    }
   ],
   "source": [
    "#Set methods\n",
    "A={'a','b','c','d','e'}\n",
    "B={'c','d','e','f','g'}\n",
    "print(f\"set union:A or B={A.union(B)} \\n\")\n",
    "print(f\"set intersection: A and B={A.intersection(B)} \\n\")\n",
    "print(f\"set difference:A-B={A.difference(B)} \\n\")\n",
    "print(f\"set symmetric difference:A(+)B={A.symmetric_difference(B)}\")"
   ]
  }
 ],
 "metadata": {
  "kernelspec": {
   "display_name": "base",
   "language": "python",
   "name": "python3"
  },
  "language_info": {
   "codemirror_mode": {
    "name": "ipython",
    "version": 3
   },
   "file_extension": ".py",
   "mimetype": "text/x-python",
   "name": "python",
   "nbconvert_exporter": "python",
   "pygments_lexer": "ipython3",
   "version": "3.11.3"
  }
 },
 "nbformat": 4,
 "nbformat_minor": 2
}
