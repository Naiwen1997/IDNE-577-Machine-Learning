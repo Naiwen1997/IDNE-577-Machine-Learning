{
 "cells": [
  {
   "cell_type": "markdown",
   "metadata": {},
   "source": [
    "# Python Part.2_Lists, Tuples, and Sets\n",
    "\n",
    "# 2.a Lists\n",
    "\n",
    "```\n",
    "num_list=[1,2,3,4,5]\n",
    "```"
   ]
  },
  {
   "cell_type": "code",
   "execution_count": 42,
   "metadata": {},
   "outputs": [
    {
     "name": "stdout",
     "output_type": "stream",
     "text": [
      "[[1, 2, 3], ['a', 'b', 'c']]\n"
     ]
    }
   ],
   "source": [
    "num_list=[1,2,3]\n",
    "str_list=[\"a\",\"b\",\"c\"]\n",
    "list=[num_list,str_list]\n",
    "print(list)"
   ]
  },
  {
   "cell_type": "code",
   "execution_count": 43,
   "metadata": {},
   "outputs": [
    {
     "name": "stdout",
     "output_type": "stream",
     "text": [
      "The sample_list is [1, 2, 4, 5, 6, 8] \n",
      "\n",
      "------------------------------------- \n",
      "\n",
      "The sum of the [1, 2, 4, 5, 6, 8] is 26. \n",
      "\n",
      "The max of the [1, 2, 4, 5, 6, 8] is 8. \n",
      "\n",
      "-------------------------------------\n"
     ]
    }
   ],
   "source": [
    "sample_list=[1,2,4,5,6,8]\n",
    "title=f\"The sample_list is {sample_list}\"\n",
    "print(title, \"\\n\")\n",
    "print(\"-\"*len(title), \"\\n\")\n",
    "print(f\"The sum of the {sample_list} is {sum(sample_list)}. \\n\")\n",
    "print(f\"The max of the {sample_list} is {max(sample_list)}. \\n\")\n",
    "print(\"-\"*len(title))"
   ]
  },
  {
   "cell_type": "code",
   "execution_count": 40,
   "metadata": {},
   "outputs": [
    {
     "name": "stdout",
     "output_type": "stream",
     "text": [
      "The mean of the [1, 2, 4, 5, 6, 8] is 4.333333333333333\n"
     ]
    }
   ],
   "source": [
    "print(f\"The mean of the {sample_list} is {sum(sample_list)/len(sample_list)}\")"
   ]
  },
  {
   "cell_type": "code",
   "execution_count": 49,
   "metadata": {},
   "outputs": [
    {
     "data": {
      "text/plain": [
       "['apple', 7, 9, 2, 10]"
      ]
     },
     "execution_count": 49,
     "metadata": {},
     "output_type": "execute_result"
    }
   ],
   "source": [
    "sample_list=[10,2,9,7]\n",
    "sample_list.append(\"apple\")\n",
    "sample_list.reverse()\n",
    "sample_list"
   ]
  },
  {
   "cell_type": "code",
   "execution_count": 54,
   "metadata": {},
   "outputs": [
    {
     "name": "stdout",
     "output_type": "stream",
     "text": [
      "None\n"
     ]
    }
   ],
   "source": [
    "# Wrong example\n",
    "x=[0,1]\n",
    "x=x.append(3)# here the function x.append() return none instead of a new list\n",
    "print(x)"
   ]
  },
  {
   "cell_type": "code",
   "execution_count": 55,
   "metadata": {},
   "outputs": [
    {
     "name": "stdout",
     "output_type": "stream",
     "text": [
      "[1, 2, 3, 4, 5]\n"
     ]
    }
   ],
   "source": [
    "#Assiging a new variable to a list variable does not make a copy, it makes an additional name!\n",
    "#For example\n",
    "x=[1,2,3,4]\n",
    "y=x\n",
    "y.append(5)\n",
    "print(x)#here x also got appended since y is another name of x."
   ]
  },
  {
   "cell_type": "code",
   "execution_count": null,
   "metadata": {},
   "outputs": [],
   "source": []
  }
 ],
 "metadata": {
  "kernelspec": {
   "display_name": "base",
   "language": "python",
   "name": "python3"
  },
  "language_info": {
   "codemirror_mode": {
    "name": "ipython",
    "version": 3
   },
   "file_extension": ".py",
   "mimetype": "text/x-python",
   "name": "python",
   "nbconvert_exporter": "python",
   "pygments_lexer": "ipython3",
   "version": "3.11.3"
  }
 },
 "nbformat": 4,
 "nbformat_minor": 2
}
