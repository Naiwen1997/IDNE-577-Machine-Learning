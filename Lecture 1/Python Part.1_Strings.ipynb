{
 "cells": [
  {
   "cell_type": "markdown",
   "metadata": {},
   "source": [
    "# Python Part 1. Strings\n",
    "\n",
    "\n",
    "```\n",
    "first_name=\"Naiwen\"\n",
    "last_name=\"Pang\"\n",
    "```\n",
    "\n",
    "**Tip1.** When writing code in a professional manor try and stay consitant with how you define your strings.\n",
    "**Tip2.** This code is an example of **variable assignment**. Variable names must begin with a **non-numerical** value and should always be **lower case**. Also, it is standard in Python to use underscores to seperate wordds in variable names."
   ]
  },
  {
   "cell_type": "code",
   "execution_count": 331,
   "metadata": {},
   "outputs": [],
   "source": [
    "first_name=\"Naiwen\"\n",
    "last_name=\"Pang\""
   ]
  },
  {
   "cell_type": "code",
   "execution_count": 332,
   "metadata": {},
   "outputs": [
    {
     "name": "stdout",
     "output_type": "stream",
     "text": [
      "Naiwen\n",
      "Pang\n"
     ]
    }
   ],
   "source": [
    "print(first_name)\n",
    "print(last_name)"
   ]
  },
  {
   "cell_type": "code",
   "execution_count": 333,
   "metadata": {},
   "outputs": [
    {
     "name": "stdout",
     "output_type": "stream",
     "text": [
      "Naiwen \n",
      "\n",
      "Pang\n"
     ]
    }
   ],
   "source": [
    "#Add a new line between first_name and last_name\n",
    "print(first_name, \"\\n\")\n",
    "print(last_name)"
   ]
  },
  {
   "cell_type": "code",
   "execution_count": 334,
   "metadata": {},
   "outputs": [
    {
     "data": {
      "text/plain": [
       "'NaiwenPang'"
      ]
     },
     "execution_count": 334,
     "metadata": {},
     "output_type": "execute_result"
    }
   ],
   "source": [
    "first_name+last_name"
   ]
  },
  {
   "cell_type": "code",
   "execution_count": 335,
   "metadata": {},
   "outputs": [
    {
     "data": {
      "text/plain": [
       "'Naiwen Pang'"
      ]
     },
     "execution_count": 335,
     "metadata": {},
     "output_type": "execute_result"
    }
   ],
   "source": [
    "first_name+\" \"+last_name"
   ]
  },
  {
   "cell_type": "code",
   "execution_count": 336,
   "metadata": {},
   "outputs": [
    {
     "data": {
      "text/plain": [
       "'Naiwen Pang is 26 years old.'"
      ]
     },
     "execution_count": 336,
     "metadata": {},
     "output_type": "execute_result"
    }
   ],
   "source": [
    "#Define a new variable age\n",
    "age=26\n",
    "f\"{first_name} {last_name} is {age} years old.\""
   ]
  },
  {
   "cell_type": "markdown",
   "metadata": {},
   "source": [
    "**Everything in Python is an pbject and objects have attributes and methods associated with them.**\n",
    "1.```capitalize()```: Convert the first character into upper case\n",
    "2.```title()```\n",
    "3.```count()```\n",
    "4.```find()```\n",
    "* ```object.attribute```\n",
    "* ```object.method()```\n",
    "For example:\n",
    "```\n",
    "test_string=\"hello world\"\n",
    "test_string.title()\n",
    "```"
   ]
  },
  {
   "cell_type": "code",
   "execution_count": 337,
   "metadata": {},
   "outputs": [
    {
     "name": "stdout",
     "output_type": "stream",
     "text": [
      "Hello World \n",
      "\n",
      "Hello world \n",
      "\n",
      "2 \n",
      "\n",
      "10\n"
     ]
    }
   ],
   "source": [
    "test_string=\"hello world\"\n",
    "print(test_string.title(),\"\\n\")\n",
    "print(test_string.capitalize(), \"\\n\")\n",
    "print(test_string.count(\"o\"), \"\\n\")\n",
    "print(test_string.find(\"d\"))"
   ]
  },
  {
   "cell_type": "code",
   "execution_count": 338,
   "metadata": {},
   "outputs": [
    {
     "name": "stdout",
     "output_type": "stream",
     "text": [
      "Help on built-in function count:\n",
      "\n",
      "count(...) method of builtins.str instance\n",
      "    S.count(sub[, start[, end]]) -> int\n",
      "    \n",
      "    Return the number of non-overlapping occurrences of substring sub in\n",
      "    string S[start:end].  Optional arguments start and end are\n",
      "    interpreted as in slice notation.\n",
      "\n"
     ]
    }
   ],
   "source": [
    "help(test_string.count)"
   ]
  },
  {
   "cell_type": "code",
   "execution_count": 339,
   "metadata": {},
   "outputs": [
    {
     "name": "stdout",
     "output_type": "stream",
     "text": [
      "I like apples\n"
     ]
    }
   ],
   "source": [
    "txt=\"I like bananas\"\n",
    "new_txt=txt.replace(\"bananas\",\"apples\")\n",
    "print(new_txt)"
   ]
  },
  {
   "cell_type": "code",
   "execution_count": 340,
   "metadata": {},
   "outputs": [
    {
     "name": "stdout",
     "output_type": "stream",
     "text": [
      "Naiwen Pang contains 11 cahracters.\n"
     ]
    }
   ],
   "source": [
    "full_name=first_name+\" \"+last_name\n",
    "print(f\"{full_name} contains {len(full_name)} cahracters.\")"
   ]
  },
  {
   "cell_type": "code",
   "execution_count": 341,
   "metadata": {},
   "outputs": [
    {
     "name": "stdout",
     "output_type": "stream",
     "text": [
      "The chararcher at the 2 index of abcdefg is c \n",
      "\n",
      "The chararcher at the 3 index of abcdefg is d\n"
     ]
    }
   ],
   "source": [
    "test_string=\"abcdefg\"\n",
    "print(f\"The chararcher at the 2 index of {test_string} is {test_string[2]} \\n\")\n",
    "print(f\"The chararcher at the 3 index of {test_string} is {test_string[3]}\")"
   ]
  },
  {
   "cell_type": "code",
   "execution_count": 342,
   "metadata": {},
   "outputs": [
    {
     "name": "stdout",
     "output_type": "stream",
     "text": [
      "The character at the -1 index of abcdefg is g \n",
      "\n"
     ]
    }
   ],
   "source": [
    "test_string=\"abcdefg\"\n",
    "print(f\"The character at the -1 index of {test_string} is {test_string[-1]} \\n\")"
   ]
  },
  {
   "cell_type": "markdown",
   "metadata": {},
   "source": []
  },
  {
   "cell_type": "code",
   "execution_count": 343,
   "metadata": {},
   "outputs": [
    {
     "name": "stdout",
     "output_type": "stream",
     "text": [
      "bcd\n",
      "abcdef\n"
     ]
    }
   ],
   "source": [
    "# String Slicing\n",
    "test_string=\"abcdefg\"\n",
    "print(test_string[1:4])\n",
    "print(test_string[:-1])"
   ]
  }
 ],
 "metadata": {
  "kernelspec": {
   "display_name": "base",
   "language": "python",
   "name": "python3"
  },
  "language_info": {
   "codemirror_mode": {
    "name": "ipython",
    "version": 3
   },
   "file_extension": ".py",
   "mimetype": "text/x-python",
   "name": "python",
   "nbconvert_exporter": "python",
   "pygments_lexer": "ipython3",
   "version": "3.11.3"
  }
 },
 "nbformat": 4,
 "nbformat_minor": 2
}
