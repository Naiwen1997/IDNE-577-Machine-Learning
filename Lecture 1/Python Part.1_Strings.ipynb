{
 "cells": [
  {
   "cell_type": "markdown",
   "metadata": {},
   "source": [
    "# Python Part 1. Strings\n",
    "\n",
    "\n",
    "```\n",
    "first_name=\"Naiwen\"\n",
    "last_name=\"Pang\"\n",
    "```\n",
    "\n",
    "**Tip1.** When writing code in a professional manor try and stay consitant with how you define your strings.\n",
    "**Tip2.** This code is an example of **variable assignment**. Variable names must begin with a **non-numerical** value and should always be **lower case**. Also, it is standard in Python to use underscores to seperate wordds in variable names."
   ]
  },
  {
   "cell_type": "code",
   "execution_count": 132,
   "metadata": {},
   "outputs": [],
   "source": [
    "first_name=\"Naiwen\"\n",
    "last_name=\"Pang\""
   ]
  },
  {
   "cell_type": "code",
   "execution_count": 133,
   "metadata": {},
   "outputs": [
    {
     "name": "stdout",
     "output_type": "stream",
     "text": [
      "Naiwen\n",
      "Pang\n"
     ]
    }
   ],
   "source": [
    "print(first_name)\n",
    "print(last_name)"
   ]
  },
  {
   "cell_type": "code",
   "execution_count": 134,
   "metadata": {},
   "outputs": [
    {
     "name": "stdout",
     "output_type": "stream",
     "text": [
      "Naiwen \n",
      "\n",
      "Pang\n"
     ]
    }
   ],
   "source": [
    "#Add a new line between first_name and last_name\n",
    "print(first_name, \"\\n\")\n",
    "print(last_name)"
   ]
  },
  {
   "cell_type": "code",
   "execution_count": 135,
   "metadata": {},
   "outputs": [
    {
     "data": {
      "text/plain": [
       "'NaiwenPang'"
      ]
     },
     "execution_count": 135,
     "metadata": {},
     "output_type": "execute_result"
    }
   ],
   "source": [
    "first_name+last_name"
   ]
  },
  {
   "cell_type": "code",
   "execution_count": 136,
   "metadata": {},
   "outputs": [
    {
     "data": {
      "text/plain": [
       "'Naiwen Pang'"
      ]
     },
     "execution_count": 136,
     "metadata": {},
     "output_type": "execute_result"
    }
   ],
   "source": [
    "first_name+\" \"+last_name"
   ]
  },
  {
   "cell_type": "code",
   "execution_count": 137,
   "metadata": {},
   "outputs": [
    {
     "data": {
      "text/plain": [
       "'Naiwen Pang is 26 years old.'"
      ]
     },
     "execution_count": 137,
     "metadata": {},
     "output_type": "execute_result"
    }
   ],
   "source": [
    "#Define a new variable age\n",
    "age=26\n",
    "f\"{first_name} {last_name} is {age} years old.\""
   ]
  },
  {
   "cell_type": "markdown",
   "metadata": {},
   "source": [
    "**Everything in Python is an pbject and objects have attributes and methods associated with them.**\n",
    "1.```capitalize()```: Convert the first character into upper case\n",
    "2.```title()```\n",
    "3.```count()```\n",
    "4.```find()```\n",
    "* ```object.attribute```\n",
    "* ```object.method()```\n",
    "For example:\n",
    "```\n",
    "test_string=\"hello world\"\n",
    "test_string.title()\n",
    "```"
   ]
  },
  {
   "cell_type": "code",
   "execution_count": 138,
   "metadata": {},
   "outputs": [
    {
     "name": "stdout",
     "output_type": "stream",
     "text": [
      "Hello World \n",
      "\n",
      "Hello world\n"
     ]
    }
   ],
   "source": [
    "test_string=\"hello world\"\n",
    "print(test_string.title(),\"\\n\")\n",
    "print(test_string.capitalize())"
   ]
  },
  {
   "cell_type": "markdown",
   "metadata": {},
   "source": []
  }
 ],
 "metadata": {
  "kernelspec": {
   "display_name": "base",
   "language": "python",
   "name": "python3"
  },
  "language_info": {
   "codemirror_mode": {
    "name": "ipython",
    "version": 3
   },
   "file_extension": ".py",
   "mimetype": "text/x-python",
   "name": "python",
   "nbconvert_exporter": "python",
   "pygments_lexer": "ipython3",
   "version": "3.11.3"
  }
 },
 "nbformat": 4,
 "nbformat_minor": 2
}
