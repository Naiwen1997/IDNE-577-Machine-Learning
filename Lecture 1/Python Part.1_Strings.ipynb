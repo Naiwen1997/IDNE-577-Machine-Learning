{
 "cells": [
  {
   "cell_type": "markdown",
   "metadata": {},
   "source": [
    "# Python Part 1. Strings\n",
    "\n",
    "\n",
    "```\n",
    "First_name=\"Pang\"\n",
    "Last_name=\"Naiwen\"\n",
    "```\n",
    "\n",
    "**Tip1.** When writing code in a professional manor try and stay consitant with how you define your strings.\n",
    "**Tip2.** This code is an example of **variable assignment**. Variable names must begin with a **non-numerical** value and should always be **lower case**. Also, it is standard in Python to use underscores to seperate wordds in variable names."
   ]
  },
  {
   "cell_type": "markdown",
   "metadata": {},
   "source": []
  }
 ],
 "metadata": {
  "language_info": {
   "name": "python"
  }
 },
 "nbformat": 4,
 "nbformat_minor": 2
}
