{
 "cells": [
  {
   "cell_type": "markdown",
   "metadata": {},
   "source": [
    "# Python Part 4. Conditional Statements, Looping, and Comprehension\n",
    "\n",
    "## Part 4.a. Conditional Statements\n",
    "\n",
    "```\n",
    "x=10\n",
    "y=4\n",
    "print(f\"x={x} \\n\")\n",
    "#print(f\"{x=} \\n\")\n",
    "print(f\"y={y} \\n)\n",
    "\n",
    "if x>y:\n",
    "    print(\"x is greater than y\")\n",
    "elif x==y:\n",
    "    print(\"x is equal to y\")\n",
    "else:\n",
    "    print(\"x is less than y\")\n",
    "```\n"
   ]
  },
  {
   "cell_type": "code",
   "execution_count": 6,
   "metadata": {},
   "outputs": [
    {
     "name": "stdout",
     "output_type": "stream",
     "text": [
      "i=1\n",
      "i=2\n",
      "i=3\n",
      "i=4\n",
      "i=5\n",
      "i=6\n",
      "i=7\n",
      "i=8\n",
      "i=9\n",
      "Randy\n",
      "Andrew\n",
      "Ben\n",
      "Chrisy\n",
      "Rusty\n",
      "index: 0, name: Randy\n",
      "index: 1, name: Andrew\n",
      "index: 2, name: Ben\n",
      "index: 3, name: Chrisy\n",
      "index: 4, name: Rusty\n"
     ]
    }
   ],
   "source": [
    "# Part 4.b. Looping\n",
    "i=1\n",
    "max_iterations=10\n",
    "while i<max_iterations:\n",
    "    print(f\"i={i}\")\n",
    "    i+=1\n",
    "\n",
    "names=['Randy','Andrew','Ben','Chrisy','Rusty']\n",
    "for name in names:\n",
    "    print(name)\n",
    "for i, name in enumerate(names):\n",
    "    print(f\"index: {i}, name: {name}\")"
   ]
  },
  {
   "cell_type": "code",
   "execution_count": 8,
   "metadata": {},
   "outputs": [
    {
     "name": "stdout",
     "output_type": "stream",
     "text": [
      "Name:Randy,Age:12\n",
      "Name:Andrew,Age:13\n",
      "Name:Ben,Age:15\n",
      "Name:Chrisy,Age:17\n",
      "Name:Rusty,Age:19\n"
     ]
    }
   ],
   "source": [
    "names=['Randy','Andrew','Ben','Chrisy','Rusty']\n",
    "ages=[12,13,15,17,19]\n",
    "\n",
    "for name, age in zip(names,ages):\n",
    "    print(f\"Name:{name},Age:{age}\")"
   ]
  },
  {
   "cell_type": "code",
   "execution_count": 15,
   "metadata": {},
   "outputs": [
    {
     "name": "stdout",
     "output_type": "stream",
     "text": [
      "[2, 4, 6, 8]\n",
      "[1, 3, 5, 7, 9]\n",
      "{1: 'odd', 2: 'even', 3: 'odd', 4: 'even', 5: 'odd', 6: 'even', 7: 'odd', 8: 'even', 9: 'odd'}\n"
     ]
    }
   ],
   "source": [
    "#Part 4.c. Comprehension\n",
    "normal_list=[1,2,3,4,5,6,7,8,9]\n",
    "even_list=[x for x in normal_list if x % 2 ==0]\n",
    "odd_list=[x for x in normal_list if x % 2 !=0 ]\n",
    "even_or_odd_dic={x:\"even\" if x%2 ==0 else \"odd\" for x in normal_list }\n",
    "print(even_list)\n",
    "print(odd_list)\n",
    "print(even_or_odd_dic)"
   ]
  }
 ],
 "metadata": {
  "kernelspec": {
   "display_name": "base",
   "language": "python",
   "name": "python3"
  },
  "language_info": {
   "codemirror_mode": {
    "name": "ipython",
    "version": 3
   },
   "file_extension": ".py",
   "mimetype": "text/x-python",
   "name": "python",
   "nbconvert_exporter": "python",
   "pygments_lexer": "ipython3",
   "version": "3.11.3"
  }
 },
 "nbformat": 4,
 "nbformat_minor": 2
}
