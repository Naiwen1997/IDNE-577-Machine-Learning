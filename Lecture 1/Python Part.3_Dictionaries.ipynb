{
 "cells": [
  {
   "cell_type": "markdown",
   "metadata": {},
   "source": [
    "# Python Part 3.Dictionaries\n",
    "Python dictionaries are key_value pairs. We use the items() method to view the key-value pairs in our dictionaries."
   ]
  },
  {
   "cell_type": "code",
   "execution_count": 16,
   "metadata": {},
   "outputs": [
    {
     "name": "stdout",
     "output_type": "stream",
     "text": [
      "sample_dictionary={'first_name': 'Naiwen', 'last_name': 'Pang', 'age': 26} \n",
      "\n",
      "sample_dictionary key-values pairs=dict_items([('first_name', 'Naiwen'), ('last_name', 'Pang'), ('age', 26)])\n"
     ]
    }
   ],
   "source": [
    "sample_dictionary={\"first_name\": \"Naiwen\",\n",
    "                   \"last_name\": \"Pang\",\n",
    "                   \"age\": 26 \n",
    "                    }\n",
    "print(f\"sample_dictionary={sample_dictionary} \\n\")\n",
    "print(f\"sample_dictionary key-values pairs={sample_dictionary.items()}\")"
   ]
  },
  {
   "cell_type": "code",
   "execution_count": 17,
   "metadata": {},
   "outputs": [
    {
     "name": "stdout",
     "output_type": "stream",
     "text": [
      "{'first_name': 'Naiwen', 'last_name': 'Pang', 'age': 26}\n",
      "Naiwen \n",
      "\n",
      "Pang \n",
      "\n",
      "26 \n",
      "\n",
      "dict_keys(['first_name', 'last_name', 'age']) \n",
      "\n",
      "dict_values(['Naiwen', 'Pang', 26])\n",
      "{'first_name': 'Vincent', 'last_name': 'Pang', 'age': 26, 'sex': 'male'}\n"
     ]
    }
   ],
   "source": [
    "#sample_dictionary[key_name]=key_value\n",
    "print(f\"{sample_dictionary}\")\n",
    "print(f\"{sample_dictionary['first_name']} \\n\")\n",
    "print(f\"{sample_dictionary['last_name']} \\n\")\n",
    "print(f\"{sample_dictionary['age']} \\n\")\n",
    "print(f\"{sample_dictionary.keys()} \\n\")\n",
    "print(f\"{sample_dictionary.values()}\")\n",
    "sample_dictionary['sex']='male' #mutable\n",
    "sample_dictionary['first_name']='Vincent' #mutable\n",
    "print(f\"{sample_dictionary}\")"
   ]
  },
  {
   "cell_type": "markdown",
   "metadata": {},
   "source": [
    "### Restrictions on Dictionary Keys\n",
    "\n",
    "Almost any type of value can be used as a dictionary key in Python. However, there are a couple restrictions that dictionary keys must abide by:\n",
    "1. A given key can appear in a dictionary only once. Duplicate keys are not allowed.  \n",
    "2. A dictionary key must be of a type that is immutable, such types include integers, floats, strings, Booleans, and tuples. \n",
    "\n",
    "### Restrictions on Dictionary Values\n",
    "A dictionary value can be any type of object Python supports, including mutable types like lists and dictionaries, and user-defined objects.\n",
    "\n",
    "\n",
    "From a data science perspective, dictionaries can be used to model *databases*. By this I mean that that keys can point to dictionaries contained specific values needed, which in-turn can also be dictionaries. This tree like structure mimics the stucture of many databases. For example, consider running the following code in the cell below:\n",
    "```python\n",
    "employees = {\"John\": {\"Age\": 20, \"Position\": \"sales\", \"Salary\": 60_000},\n",
    "             \"Jane\" :{\"Age\": 25, \"Position\": \"management\", \"Salary\": 80_000}\n",
    "            }\n",
    "\n",
    "vendors = {\"Houston Supply\" : {\"Product\": \"computers\", \"Monthly Fee\": 20_000,},\n",
    "           \"ACME\": {\"Product\": \"keyboards\", \"Monthly Fee\": 3_000}\n",
    "          }\n",
    "           \n",
    "database = {\"employees\": employees, \"vendors\": vendors}\n",
    "```"
   ]
  },
  {
   "cell_type": "code",
   "execution_count": 18,
   "metadata": {},
   "outputs": [],
   "source": [
    "employees = {\"John\": {\"Age\": 20, \"Position\": \"sales\", \"Salary\": 60_000},\n",
    "             \"Jane\" :{\"Age\": 25, \"Position\": \"management\", \"Salary\": 80_000}\n",
    "            }\n",
    "\n",
    "vendors = {\"Houston Supply\" : {\"Product\": \"computers\", \"Monthly Fee\": 20_000,},\n",
    "           \"ACME\": {\"Product\": \"keyboards\", \"Monthly Fee\": 3_000}\n",
    "          }\n",
    "           \n",
    "database = {\"employees\": employees, \"vendors\": vendors}"
   ]
  },
  {
   "cell_type": "code",
   "execution_count": 21,
   "metadata": {},
   "outputs": [
    {
     "name": "stdout",
     "output_type": "stream",
     "text": [
      "{'John': {'Age': 20, 'Position': 'sales', 'Salary': 60000}, 'Jane': {'Age': 25, 'Position': 'management', 'Salary': 80000}}\n",
      "{'Age': 20, 'Position': 'sales', 'Salary': 60000}\n",
      "60000\n"
     ]
    }
   ],
   "source": [
    "print(database['employees'])\n",
    "print(database['employees']['John'])\n",
    "print(database['employees']['John']['Salary'])"
   ]
  },
  {
   "cell_type": "code",
   "execution_count": 25,
   "metadata": {},
   "outputs": [
    {
     "name": "stdout",
     "output_type": "stream",
     "text": [
      "Employees:\n",
      "----------\n",
      "           John:\n",
      "           ----------------\n",
      "           Age: 20\n",
      "           Position: sales\n",
      "           Salary: 60000\n",
      "\n",
      "           Jane:\n",
      "           ----------------\n",
      "           Age: 25\n",
      "           Position: management\n",
      "           Salary: 80000\n",
      "\n",
      "\n",
      "Vendors:\n",
      "----------\n",
      "           Houston supply:\n",
      "           ----------------\n",
      "           Product: computers\n",
      "           Monthly Fee: 20000\n",
      "\n",
      "           Acme:\n",
      "           ----------------\n",
      "           Product: keyboards\n",
      "           Monthly Fee: 3000\n",
      "\n",
      "\n"
     ]
    }
   ],
   "source": [
    "for field in database:\n",
    "    print(f\"{field.capitalize()}:\")\n",
    "    print(\"----------\")\n",
    "    for field_two in database[field]:\n",
    "        print(f\"           {field_two.capitalize()}:\")\n",
    "        print(\"           ----------------\")\n",
    "        for prop in database[field][field_two]:\n",
    "            print(f\"           {prop}: {database[field][field_two][prop]}\")\n",
    "        print()\n",
    "    print()"
   ]
  },
  {
   "cell_type": "code",
   "execution_count": null,
   "metadata": {},
   "outputs": [],
   "source": []
  }
 ],
 "metadata": {
  "kernelspec": {
   "display_name": "base",
   "language": "python",
   "name": "python3"
  },
  "language_info": {
   "codemirror_mode": {
    "name": "ipython",
    "version": 3
   },
   "file_extension": ".py",
   "mimetype": "text/x-python",
   "name": "python",
   "nbconvert_exporter": "python",
   "pygments_lexer": "ipython3",
   "version": "3.11.3"
  }
 },
 "nbformat": 4,
 "nbformat_minor": 2
}
