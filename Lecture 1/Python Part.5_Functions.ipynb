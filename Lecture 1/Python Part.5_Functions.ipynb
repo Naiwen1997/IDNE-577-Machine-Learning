{
 "cells": [
  {
   "cell_type": "markdown",
   "metadata": {},
   "source": [
    "# Python Part 5:Functions"
   ]
  },
  {
   "cell_type": "code",
   "execution_count": 5,
   "metadata": {},
   "outputs": [
    {
     "name": "stdout",
     "output_type": "stream",
     "text": [
      "------Name_List------\n",
      "---------------------\n",
      "Randy\n",
      "Andrew\n",
      "Ben\n",
      "Christy\n",
      "Rusty\n",
      "\n",
      "\n",
      "------Name_List------\n",
      "---------------------\n",
      "1.Rice University\n",
      "2.University of Houston\n",
      "3.University of Texas\n",
      "4.Texas A&M\n",
      "5.Texas State University\n",
      "\n",
      "\n"
     ]
    },
    {
     "ename": "TypeError",
     "evalue": "Warning! items argument must be type list",
     "output_type": "error",
     "traceback": [
      "\u001b[1;31m---------------------------------------------------------------------------\u001b[0m",
      "\u001b[1;31mTypeError\u001b[0m                                 Traceback (most recent call last)",
      "Cell \u001b[1;32mIn[5], line 28\u001b[0m\n\u001b[0;32m     26\u001b[0m print_items(second_list,\u001b[38;5;124m\"\u001b[39m\u001b[38;5;124mname_list\u001b[39m\u001b[38;5;124m\"\u001b[39m,\u001b[38;5;28;01mTrue\u001b[39;00m)\n\u001b[0;32m     27\u001b[0m \u001b[38;5;28mprint\u001b[39m(\u001b[38;5;124m\"\u001b[39m\u001b[38;5;130;01m\\n\u001b[39;00m\u001b[38;5;124m\"\u001b[39m)\n\u001b[1;32m---> 28\u001b[0m print_items(\u001b[38;5;124m\"\u001b[39m\u001b[38;5;124mhello\u001b[39m\u001b[38;5;124m\"\u001b[39m,[\u001b[38;5;241m1\u001b[39m,\u001b[38;5;241m2\u001b[39m,\u001b[38;5;241m3\u001b[39m],\u001b[38;5;124m\"\u001b[39m\u001b[38;5;124myeah\u001b[39m\u001b[38;5;124m\"\u001b[39m)\n",
      "Cell \u001b[1;32mIn[5], line 9\u001b[0m, in \u001b[0;36mprint_items\u001b[1;34m(items, my_title, show_number)\u001b[0m\n\u001b[0;32m      7\u001b[0m \u001b[38;5;28;01mdef\u001b[39;00m \u001b[38;5;21mprint_items\u001b[39m(items,my_title,show_number\u001b[38;5;241m=\u001b[39m\u001b[38;5;28;01mFalse\u001b[39;00m):\n\u001b[0;32m      8\u001b[0m     \u001b[38;5;28;01mif\u001b[39;00m \u001b[38;5;129;01mnot\u001b[39;00m \u001b[38;5;28mtype\u001b[39m(items) \u001b[38;5;129;01mis\u001b[39;00m \u001b[38;5;28mlist\u001b[39m:\n\u001b[1;32m----> 9\u001b[0m         \u001b[38;5;28;01mraise\u001b[39;00m \u001b[38;5;167;01mTypeError\u001b[39;00m(\u001b[38;5;124m\"\u001b[39m\u001b[38;5;124mWarning! items argument must be type list\u001b[39m\u001b[38;5;124m\"\u001b[39m)\n\u001b[0;32m     10\u001b[0m     \u001b[38;5;28;01mif\u001b[39;00m \u001b[38;5;129;01mnot\u001b[39;00m \u001b[38;5;28mtype\u001b[39m(my_title) \u001b[38;5;129;01mis\u001b[39;00m \u001b[38;5;28mstr\u001b[39m:\n\u001b[0;32m     11\u001b[0m         \u001b[38;5;28;01mraise\u001b[39;00m \u001b[38;5;167;01mTypeError\u001b[39;00m(\u001b[38;5;124m\"\u001b[39m\u001b[38;5;124mWarning! my_title argument must be type string\u001b[39m\u001b[38;5;124m\"\u001b[39m)\n",
      "\u001b[1;31mTypeError\u001b[0m: Warning! items argument must be type list"
     ]
    }
   ],
   "source": [
    "first_list = [\"Randy\", \"Andrew\", \"Ben\", \"Christy\", \"Rusty\"]\n",
    "second_list = [\"Rice University\", \n",
    "               \"University of Houston\", \n",
    "               \"University of Texas\", \n",
    "               \"Texas A&M\",\n",
    "               \"Texas State University\"]\n",
    "def print_items(items,my_title,show_number=False):\n",
    "    if not type(items) is list:\n",
    "        raise TypeError(\"Warning! items argument must be type list\")\n",
    "    if not type(my_title) is str:\n",
    "        raise TypeError(\"Warning! my_title argument must be type string\")\n",
    "    if not type(show_number) is bool:\n",
    "        raise TypeError(\"Warning! show_number argument must be type bool\")\n",
    "    title=f\"------{my_title.title()}------\"\n",
    "    line=\"-\"*len(title)\n",
    "    print(title)\n",
    "    print(line)\n",
    "    if show_number:\n",
    "        for i,item in enumerate(items):\n",
    "            print(f\"{i+1}.{item}\")\n",
    "    else:\n",
    "        for item in items:\n",
    "            print(f\"{item}\")\n",
    "print_items(first_list,\"name_list\")\n",
    "print(\"\\n\")\n",
    "print_items(second_list,\"name_list\",True)\n",
    "print(\"\\n\")\n",
    "print_items(\"hello\",[1,2,3],\"yeah\")\n"
   ]
  },
  {
   "cell_type": "markdown",
   "metadata": {},
   "source": [
    "Docstrings\n",
    "For instance\n",
    "```\n",
    "def function():\n",
    "    \"\"\"\n",
    "        content\n",
    "    \"\"\"\n",
    "```\n",
    "Then if type help(function), the content will show up.\n"
   ]
  }
 ],
 "metadata": {
  "kernelspec": {
   "display_name": "base",
   "language": "python",
   "name": "python3"
  },
  "language_info": {
   "codemirror_mode": {
    "name": "ipython",
    "version": 3
   },
   "file_extension": ".py",
   "mimetype": "text/x-python",
   "name": "python",
   "nbconvert_exporter": "python",
   "pygments_lexer": "ipython3",
   "version": "3.11.3"
  }
 },
 "nbformat": 4,
 "nbformat_minor": 2
}
