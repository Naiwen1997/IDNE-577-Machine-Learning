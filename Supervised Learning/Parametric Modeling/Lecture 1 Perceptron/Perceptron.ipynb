{
 "cells": [
  {
   "cell_type": "markdown",
   "metadata": {},
   "source": [
    "# Perceptron\n",
    "\n",
    "[![Open In Colab](https://colab.research.google.com/assets/colab-badge.svg)](https://github.com/Naiwen1997/IDNE-577-Machine-Learning/blob/master/Supervised%20Learning/Parametric%20Modeling/Lecture%201%20Perceptron/Perceptron.ipyib)"
   ]
  },
  {
   "cell_type": "code",
   "execution_count": 2,
   "metadata": {},
   "outputs": [
    {
     "name": "stdout",
     "output_type": "stream",
     "text": [
      "Collecting ucimlrepo\n",
      "  Downloading ucimlrepo-0.0.6-py3-none-any.whl (8.0 kB)\n",
      "Installing collected packages: ucimlrepo\n",
      "Successfully installed ucimlrepo-0.0.6\n"
     ]
    }
   ],
   "source": [
    "!pip install ucimlrepo"
   ]
  },
  {
   "cell_type": "code",
   "execution_count": 7,
   "metadata": {},
   "outputs": [
    {
     "name": "stdout",
     "output_type": "stream",
     "text": [
      "       Area   Perimeter  Major_Axis_Length  Minor_Axis_Length  Eccentricity  \\\n",
      "0     15231  525.578979         229.749878          85.093788      0.928882   \n",
      "1     14656  494.311005         206.020065          91.730972      0.895405   \n",
      "2     14634  501.122009         214.106781          87.768288      0.912118   \n",
      "3     13176  458.342987         193.337387          87.448395      0.891861   \n",
      "4     14688  507.166992         211.743378          89.312454      0.906691   \n",
      "...     ...         ...                ...                ...           ...   \n",
      "3805  11441  415.858002         170.486771          85.756592      0.864280   \n",
      "3806  11625  421.390015         167.714798          89.462570      0.845850   \n",
      "3807  12437  442.498993         183.572922          86.801979      0.881144   \n",
      "3808   9882  392.296997         161.193985          78.210480      0.874406   \n",
      "3809  11434  404.709992         161.079269          90.868195      0.825692   \n",
      "\n",
      "      Convex_Area    Extent  \n",
      "0           15617  0.572896  \n",
      "1           15072  0.615436  \n",
      "2           14954  0.693259  \n",
      "3           13368  0.640669  \n",
      "4           15262  0.646024  \n",
      "...           ...       ...  \n",
      "3805        11628  0.681012  \n",
      "3806        11904  0.694279  \n",
      "3807        12645  0.626739  \n",
      "3808        10097  0.659064  \n",
      "3809        11591  0.802949  \n",
      "\n",
      "[3810 rows x 7 columns]\n",
      "         Class\n",
      "0       Cammeo\n",
      "1       Cammeo\n",
      "2       Cammeo\n",
      "3       Cammeo\n",
      "4       Cammeo\n",
      "...        ...\n",
      "3805  Osmancik\n",
      "3806  Osmancik\n",
      "3807  Osmancik\n",
      "3808  Osmancik\n",
      "3809  Osmancik\n",
      "\n",
      "[3810 rows x 1 columns]\n"
     ]
    }
   ],
   "source": [
    "from ucimlrepo import fetch_ucirepo \n",
    "  \n",
    "# fetch dataset \n",
    "rice_cammeo_and_osmancik = fetch_ucirepo(id=545) \n",
    "  \n",
    "# data (as pandas dataframes) \n",
    "X = rice_cammeo_and_osmancik.data.features \n",
    "y = rice_cammeo_and_osmancik.data.targets \n",
    "  \n",
    "print(X)\n",
    "  \n",
    "# variable information \n",
    "print(y) \n"
   ]
  },
  {
   "cell_type": "code",
   "execution_count": null,
   "metadata": {},
   "outputs": [],
   "source": []
  }
 ],
 "metadata": {
  "kernelspec": {
   "display_name": "base",
   "language": "python",
   "name": "python3"
  },
  "language_info": {
   "codemirror_mode": {
    "name": "ipython",
    "version": 3
   },
   "file_extension": ".py",
   "mimetype": "text/x-python",
   "name": "python",
   "nbconvert_exporter": "python",
   "pygments_lexer": "ipython3",
   "version": "3.11.3"
  }
 },
 "nbformat": 4,
 "nbformat_minor": 2
}
